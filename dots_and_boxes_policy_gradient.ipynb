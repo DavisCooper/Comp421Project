{
 "cells": [
  {
   "cell_type": "code",
   "execution_count": 37,
   "metadata": {
    "collapsed": false
   },
   "outputs": [],
   "source": [
    "import board\n",
    "import numpy as np\n",
    "import tensorflow as tf\n",
    "import tflearn\n",
    "\n",
    "grid_size = 2\n",
    "num_episodes = 1000"
   ]
  },
  {
   "cell_type": "code",
   "execution_count": 38,
   "metadata": {
    "collapsed": true
   },
   "outputs": [],
   "source": [
    "def build_policy_network(grid_size):\n",
    "    num_inputs = np.power(grid_size,2)*(grid_size+1)\n",
    "    inputs = tf.placeholder(tf.float32,[None,num_inputs])\n",
    "    net = tflearn.fully_connected(inputs,2*num_inputs,activation='sigmoid')\n",
    "    policy_network = tflearn.fully_connected(net,num_inputs,activation='Softmax')\n",
    "    return inputs, policy_network\n"
   ]
  },
  {
   "cell_type": "code",
   "execution_count": 42,
   "metadata": {
    "collapsed": false
   },
   "outputs": [],
   "source": [
    "def build_graph(grid_size):\n",
    "    state, policy_net = build_policy_network(grid_size)\n",
    "    num_inputs = np.power(2, 2*(grid_size+1))\n",
    "\n",
    "    network_params = tf.trainable_variables()\n",
    "\n",
    "    reward = tf.placeholder('float',[None])\n",
    "    logprob = tf.log(policy_net)\n",
    "    mean = tf.reduce_sum(logprob, reduction_indices=1)\n",
    "    loss = tf.mul(mean, reward)\n",
    "    loss = tf.mul(loss, -1)\n",
    "    optimizer = tf.train.AdadeltaOptimizer()\n",
    "    grad_update = optimizer.minimize(loss, var_list=network_params)\n",
    "    \n",
    "    graph = {\n",
    "        'state':state,\n",
    "        'policy_net':policy_net,\n",
    "        'grad_update':grad_update\n",
    "    }\n",
    "    return graph"
   ]
  },
  {
   "cell_type": "code",
   "execution_count": null,
   "metadata": {
    "collapsed": true
   },
   "outputs": [],
   "source": [
    "def train(session,graph):\n",
    "    session.run(tf.initialize_all_variables())\n",
    "    for episode in range(1,num_episodes)\n",
    "        run_episode(session,graph)\n",
    "    "
   ]
  },
  {
   "cell_type": "code",
   "execution_count": null,
   "metadata": {
    "collapsed": true
   },
   "outputs": [],
   "source": [
    "def run_episode(session,graph):\n",
    "    print('episode run')"
   ]
  },
  {
   "cell_type": "code",
   "execution_count": 40,
   "metadata": {
    "collapsed": false
   },
   "outputs": [],
   "source": [
    "with tf.Session() as session:\n",
    "    graph = build_graph(grid_size)"
   ]
  }
 ],
 "metadata": {
  "kernelspec": {
   "display_name": "Python 3",
   "language": "python",
   "name": "python3"
  },
  "language_info": {
   "codemirror_mode": {
    "name": "ipython",
    "version": 3
   },
   "file_extension": ".py",
   "mimetype": "text/x-python",
   "name": "python",
   "nbconvert_exporter": "python",
   "pygments_lexer": "ipython3",
   "version": "3.5.1"
  }
 },
 "nbformat": 4,
 "nbformat_minor": 0
}
